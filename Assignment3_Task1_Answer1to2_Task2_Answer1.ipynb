{
 "cells": [
  {
   "cell_type": "markdown",
   "metadata": {},
   "source": [
    "# Task1_1=> Write a function to compute 5/0 and use try/except to catch the exceptions."
   ]
  },
  {
   "cell_type": "code",
   "execution_count": 6,
   "metadata": {},
   "outputs": [
    {
     "name": "stdout",
     "output_type": "stream",
     "text": [
      "Error 001: Denominator can not be zero, Please correct the input\n",
      "This is just to practise in this example. Thank you\n"
     ]
    }
   ],
   "source": [
    "def div(n,d):\n",
    "    try:\n",
    "        a = n/d\n",
    "    except:\n",
    "        print(\"Error 001: Denominator can not be zero, Please correct the input\")\n",
    "    finally:\n",
    "        print(\"This is just to practise in this example. Thank you\")\n",
    "\n",
    "div(5,0)"
   ]
  },
  {
   "cell_type": "markdown",
   "metadata": {},
   "source": [
    "# Task1_2=> Implement a Python program to generate all sentences where subject is in [\"Americans\",\"Indians\"] and verb is in [\"Play\", \"watch\"] and the object is in [\"Baseball\",\"cricket\"]."
   ]
  },
  {
   "cell_type": "code",
   "execution_count": 11,
   "metadata": {},
   "outputs": [
    {
     "name": "stdout",
     "output_type": "stream",
     "text": [
      "Americans  play Baseball.\n",
      "Americans  play Cricket.\n",
      "Americans  watch Baseball.\n",
      "Americans  watch Cricket.\n",
      "Indians play Baseball.\n",
      "Indians play Cricket.\n",
      "Indians watch Baseball.\n",
      "Indians watch Cricket.\n"
     ]
    }
   ],
   "source": [
    "subjects=[\"Americans \",\"Indians\"]\n",
    "verbs=[\"play\",\"watch\"]\n",
    "objects=[\"Baseball\",\"Cricket\"]\n",
    "\n",
    "for i in subjects:\n",
    "    for j in verbs:\n",
    "        for k in objects:\n",
    "            print(i+\" \"+j+\" \"+k+\".\")"
   ]
  },
  {
   "cell_type": "markdown",
   "metadata": {},
   "source": [
    "# Task2_1=>Write a function so that the columns of the output matrix are powers of the input vector."
   ]
  },
  {
   "cell_type": "code",
   "execution_count": 18,
   "metadata": {},
   "outputs": [
    {
     "name": "stdout",
     "output_type": "stream",
     "text": [
      "1. increasing is True\n",
      "[[1 1 1]\n",
      " [1 2 4]\n",
      " [1 3 9]]\n",
      "\n",
      "2. increasing is False\n",
      "[[1 1 1]\n",
      " [4 2 1]\n",
      " [9 3 1]]\n"
     ]
    }
   ],
   "source": [
    "# Docstring: Generate a Vandermonde matrix.\n",
    "# np.vander(x, N=None, increasing=False)\n",
    "import numpy as np\n",
    "\n",
    "def user_define_vander(inputArr, col, increasing=False):\n",
    "    if increasing == True:\n",
    "        op = np.array([x**i for x in inputArr for i in range(col)]).reshape(inputArr.size,col)\n",
    "    else:\n",
    "        op = np.array([x**(col-1-i) for x in inputArr for i in range(col)]).reshape(inputArr.size,col)\n",
    "    \n",
    "    return op\n",
    "    \n",
    "inputArr = np.array([1,2,3])\n",
    "col = 3\n",
    "\n",
    "print('1. increasing is True')\n",
    "print(user_define_vander(inputArr, col, True))\n",
    "\n",
    "print('\\n2. increasing is False')\n",
    "print(user_define_vander(inputArr, col, False))\n"
   ]
  }
 ],
 "metadata": {
  "kernelspec": {
   "display_name": "Python 3",
   "language": "python",
   "name": "python3"
  },
  "language_info": {
   "codemirror_mode": {
    "name": "ipython",
    "version": 3
   },
   "file_extension": ".py",
   "mimetype": "text/x-python",
   "name": "python",
   "nbconvert_exporter": "python",
   "pygments_lexer": "ipython3",
   "version": "3.6.4"
  }
 },
 "nbformat": 4,
 "nbformat_minor": 2
}

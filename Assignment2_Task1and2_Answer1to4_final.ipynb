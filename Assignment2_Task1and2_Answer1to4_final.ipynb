{
 "cells": [
  {
   "cell_type": "markdown",
   "metadata": {},
   "source": [
    "# Task1_1.1 => Write a Python Program to implement your own myreduce() function which works exactly like Python's built-in function reduce()"
   ]
  },
  {
   "cell_type": "code",
   "execution_count": 5,
   "metadata": {
    "scrolled": true
   },
   "outputs": [
    {
     "name": "stdout",
     "output_type": "stream",
     "text": [
      " *** My Reduce Function Output ***\n",
      "sum of list ==>10\n",
      " *** Original Reduce Function Output ***\n",
      "sum of list ==>10\n"
     ]
    }
   ],
   "source": [
    "#Create function to sum the list\n",
    "def sum_list(n):\n",
    "    x = 0\n",
    "    for i in n:\n",
    "        x=x+i\n",
    "    return x\n",
    "\n",
    "    \n",
    "#Create my function\n",
    "def myreduce(func, myvar):\n",
    "    return func(myvar)\n",
    "\n",
    "\n",
    "print(\" *** My Reduce Function Output ***\")\n",
    "print(\"sum of list ==>\"+str(myreduce(sum_list,[1,2,3,4])) )  \n",
    "\n",
    "\n",
    "print(\" *** Original Reduce Function Output ***\")\n",
    "from functools import reduce\n",
    "\n",
    "def sum_here(x1, x2):\n",
    "    return x1 + x2\n",
    "\n",
    "print(\"sum of list ==>\"+str(reduce(sum_here, [1, 2, 3, 4])))\n"
   ]
  },
  {
   "cell_type": "markdown",
   "metadata": {},
   "source": [
    "# Task1_1.2=> Write a Python program to implement your own myfilter() function which works exactly like Python's built-in function filter()"
   ]
  },
  {
   "cell_type": "code",
   "execution_count": 6,
   "metadata": {},
   "outputs": [
    {
     "name": "stdout",
     "output_type": "stream",
     "text": [
      "*** My Filter Function ***\n",
      "[2, 4]\n",
      "*** Original Filter Function ***\n",
      "[2, 4]\n"
     ]
    }
   ],
   "source": [
    "def is_check_even(myList):\n",
    "    newList = []\n",
    "    for i in myList:\n",
    "        if i%2 == 0:\n",
    "            newList.append(i)\n",
    "    return newList\n",
    "        \n",
    "\n",
    "def myfilter(func, num):\n",
    "    return func(num)\n",
    "\n",
    "print(\"*** My Filter Function ***\")\n",
    "print(myfilter(is_check_even,[1,2,3,4]))\n",
    "\n",
    "\n",
    "print(\"*** Original Filter Function ***\")\n",
    "def is_even(myList):\n",
    "    return myList%2 == 0\n",
    "\n",
    "print(list(filter(is_even,[1,2,3,4])))"
   ]
  },
  {
   "cell_type": "markdown",
   "metadata": {},
   "source": [
    "# Task1_2 => Implement List comprehensions to produce the following lists. Write List comprehensions to produce the following Lists"
   ]
  },
  {
   "cell_type": "code",
   "execution_count": 13,
   "metadata": {},
   "outputs": [
    {
     "name": "stdout",
     "output_type": "stream",
     "text": [
      " ACADGILD --> ['A', 'C', 'A', 'D', 'G', 'I', 'L', 'D']\n"
     ]
    }
   ],
   "source": [
    "word = \"ACADGILD\"\n",
    "alphabet_list = [ i for i in word ]\n",
    "print (\" ACADGILD --> \" + str(alphabet_list))"
   ]
  },
  {
   "cell_type": "code",
   "execution_count": 130,
   "metadata": {},
   "outputs": [
    {
     "name": "stdout",
     "output_type": "stream",
     "text": [
      "['X', 'XX', 'XXX', 'XXXX', 'Y', 'YY', 'YYY', 'YYYY', 'Z', 'ZZ', 'ZZZ', 'ZZZZ']\n"
     ]
    }
   ],
   "source": [
    "myList=['X','Y','Z']\n",
    "\n",
    "e2 = [myList[j]*i for j in range(0, len(myList)) for i in range(1,5)]\n",
    "print(e2)"
   ]
  },
  {
   "cell_type": "code",
   "execution_count": 127,
   "metadata": {},
   "outputs": [
    {
     "name": "stdout",
     "output_type": "stream",
     "text": [
      "['X', 'Y', 'Z', 'XX', 'YY', 'ZZ', 'XXX', 'YYY', 'ZZZ', 'XXXX', 'YYYY', 'ZZZZ']\n"
     ]
    }
   ],
   "source": [
    "myList=['X','Y','Z']\n",
    "\n",
    "e3 = [myList[j]*i for i in range(1,5) for j in range(0,len(myList))]\n",
    "print(e3)"
   ]
  },
  {
   "cell_type": "code",
   "execution_count": 234,
   "metadata": {
    "scrolled": true
   },
   "outputs": [
    {
     "name": "stdout",
     "output_type": "stream",
     "text": [
      "[[2], [3], [4], [3], [4], [5], [4], [5], [6]]\n"
     ]
    }
   ],
   "source": [
    "result = [[g+y] for y in [2,3,4] for g in range(0,3) ]\n",
    "print(result)"
   ]
  },
  {
   "cell_type": "code",
   "execution_count": 236,
   "metadata": {},
   "outputs": [
    {
     "name": "stdout",
     "output_type": "stream",
     "text": [
      "[[2, 3, 4, 5], [3, 4, 5, 6], [4, 5, 6, 7], [5, 6, 7, 8]]\n"
     ]
    }
   ],
   "source": [
    "result = [[g+y for y in [2,3,4,5]] for g in range(0,4) ]\n",
    "print(result)"
   ]
  },
  {
   "cell_type": "code",
   "execution_count": 264,
   "metadata": {},
   "outputs": [
    {
     "name": "stdout",
     "output_type": "stream",
     "text": [
      "[(1, 1), (1, 2), (1, 3), (2, 1), (2, 2), (2, 3), (3, 1), (3, 2), (3, 3)]\n"
     ]
    }
   ],
   "source": [
    "jj = [tuple([x,y]) for x in range(1,4) for y in range(1,4)]\n",
    "print(jj)"
   ]
  },
  {
   "cell_type": "markdown",
   "metadata": {},
   "source": [
    "# Task1_3 => Implement a function longestWord() that takes a list of words and returns the longest one."
   ]
  },
  {
   "cell_type": "code",
   "execution_count": 291,
   "metadata": {},
   "outputs": [
    {
     "data": {
      "text/plain": [
       "'discuss'"
      ]
     },
     "execution_count": 291,
     "metadata": {},
     "output_type": "execute_result"
    }
   ],
   "source": [
    "def longestWord():\n",
    "    sentence = \"Hi I am here to discuss about python , lets do that\"\n",
    "    wrd = sentence.split(' ')\n",
    "    longestw = \"\"\n",
    "#     print(wrd[1])\n",
    "    \n",
    "    for i in range(0, len(wrd)):\n",
    "        if len(wrd[i]) > len(longestw):\n",
    "            longestw = wrd[i]\n",
    "    return longestw\n",
    "\n",
    "longestWord()  "
   ]
  },
  {
   "cell_type": "markdown",
   "metadata": {},
   "source": [
    "# Task2_1.1=> Function to take the length of the sides of triangle from user should be defined in the parent class and function to calculate the area should be defined in subclass."
   ]
  },
  {
   "cell_type": "code",
   "execution_count": 23,
   "metadata": {},
   "outputs": [
    {
     "name": "stdout",
     "output_type": "stream",
     "text": [
      "Enter the side a of a triangle: 5\n",
      "Enter the side b of a triangle: 4\n",
      "Enter the side c of a triangle: 3\n",
      "6.0\n"
     ]
    }
   ],
   "source": [
    "class Parent:\n",
    "    def __init__(self):\n",
    "        self.a = int(input(\"Enter the side a of a triangle: \"))\n",
    "        self.b = int(input(\"Enter the side b of a triangle: \"))\n",
    "        self.c = int(input(\"Enter the side c of a triangle: \"))\n",
    "    \n",
    "class Child(Parent):\n",
    "    def __init__(self,*args):\n",
    "        super(Child, self).__init__(*args)\n",
    "        self.s = (self.a+self.b+self.c)/2\n",
    "        self.area = (self.s*(self.s-self.a)*(self.s-self.b)*(self.s-self.c)) ** 0.5\n",
    "        print(self.area)\n",
    "\n",
    "   \n",
    "c = Child()"
   ]
  },
  {
   "cell_type": "code",
   "execution_count": 117,
   "metadata": {},
   "outputs": [
    {
     "name": "stdout",
     "output_type": "stream",
     "text": [
      "aaaa = 4\n",
      "cccc = 4\n"
     ]
    }
   ],
   "source": [
    "def filter_long_words(ls, n):\n",
    "    for i in range(0, len(ls)):\n",
    "        if len(ls[i]) > n:\n",
    "            print(str(ls[i])+\" = \"+str(len(ls[i])))\n",
    "\n",
    "\n",
    "filter_long_words(['aaaa', 'bbb', 'cccc'],3)"
   ]
  },
  {
   "cell_type": "markdown",
   "metadata": {},
   "source": [
    "# Task2_2.1=>Write a Python program using function concept that maps list of words into a list of integers representing the lengths of the corresponding words ."
   ]
  },
  {
   "cell_type": "code",
   "execution_count": 25,
   "metadata": {},
   "outputs": [
    {
     "data": {
      "text/plain": [
       "[2, 3, 4]"
      ]
     },
     "execution_count": 25,
     "metadata": {},
     "output_type": "execute_result"
    }
   ],
   "source": [
    "def size_of_list(ls):\n",
    "    new_ls=[]\n",
    "    for i in range(0, len(ls)):\n",
    "        new_ls.append(len(ls[i]))\n",
    "    return new_ls\n",
    "\n",
    "size_of_list(['ab','cde','erty'])\n",
    "        "
   ]
  },
  {
   "cell_type": "markdown",
   "metadata": {},
   "source": [
    "# Task2_2.2=>Write a Python function which takes a character (i.e. a string of length 1) and returns True if it is a vowel, False otherwise."
   ]
  },
  {
   "cell_type": "code",
   "execution_count": 2,
   "metadata": {},
   "outputs": [
    {
     "data": {
      "text/plain": [
       "True"
      ]
     },
     "execution_count": 2,
     "metadata": {},
     "output_type": "execute_result"
    }
   ],
   "source": [
    "def vowel_func_check(char_value):\n",
    "    if len(char_value) == 1:\n",
    "        if char_value in ['a', 'i','o', 'u', 'e']:\n",
    "            return True\n",
    "        else:\n",
    "            return False\n",
    "    else:\n",
    "        print(\"Incorrect input: not a character\")\n",
    "        \n",
    "vowel_func_check('a')"
   ]
  },
  {
   "cell_type": "code",
   "execution_count": null,
   "metadata": {},
   "outputs": [],
   "source": []
  }
 ],
 "metadata": {
  "kernelspec": {
   "display_name": "Python 3",
   "language": "python",
   "name": "python3"
  },
  "language_info": {
   "codemirror_mode": {
    "name": "ipython",
    "version": 3
   },
   "file_extension": ".py",
   "mimetype": "text/x-python",
   "name": "python",
   "nbconvert_exporter": "python",
   "pygments_lexer": "ipython3",
   "version": "3.6.4"
  }
 },
 "nbformat": 4,
 "nbformat_minor": 2
}
